{
 "cells": [
  {
   "cell_type": "markdown",
   "id": "2736cd35",
   "metadata": {},
   "source": [
    "# Getting Started with APIs for Data Engineers"
   ]
  },
  {
   "cell_type": "markdown",
   "id": "a9d9ae60",
   "metadata": {},
   "source": [
    "This notebook provides a detailed walkthrough of how to interact with APIs using Python's `requests` library. We'll cover the following topics:\n",
    "    1. Introduction to APIs\n",
    "    2. Authentication\n",
    "    3. Parameters\n",
    "    4. Making API Requests\n",
    "    5. Parsing API Responses\n",
    "    6. Error Handling\n",
    "    7. Working with Multiple APIs"
   ]
  },
  {
   "cell_type": "code",
   "execution_count": 27,
   "id": "ca73b6bc",
   "metadata": {},
   "outputs": [],
   "source": [
    "import requests\n",
    "import pandas as pd\n",
    "pd.set_option('display.max_colwidth', None)"
   ]
  },
  {
   "cell_type": "markdown",
   "id": "ce86ba51",
   "metadata": {},
   "source": [
    "## 1. Introduction to APIs"
   ]
  },
  {
   "cell_type": "markdown",
   "id": "c889f37e",
   "metadata": {},
   "source": [
    "An API (Application Programming Interface) is a set of rules that allows different software applications to communicate with each other. APIs often provide access to data and services that can be used in your applications. For data engineers, APIs are a critical tool for integrating external data sources into your data pipelines."
   ]
  },
  {
   "cell_type": "markdown",
   "id": "3e332543",
   "metadata": {},
   "source": [
    "### Example: What is an API? "
   ]
  },
  {
   "cell_type": "markdown",
   "id": "5c27868b",
   "metadata": {},
   "source": [
    "## 2. Authentication\n",
    "\n",
    "Authentication is the process of verifying your identity when interacting with an API. Most APIs require an API key or token to access their data.\n",
    "\n",
    "### Example 1: Authentication with OpenWeatherMap API\n",
    "\n",
    "In the OpenWeatherMap API, authentication is done by passing an API key as a parameter in the URL."
   ]
  },
  {
   "cell_type": "code",
   "execution_count": null,
   "id": "affb58a4",
   "metadata": {},
   "outputs": [],
   "source": [
    "response = requests.get(\"http://api.openweathermap.org/data/2.5/weather?q=London,uk&appid=your_openweathermap_api_key\")\n",
    "print(response.text)"
   ]
  },
  {
   "cell_type": "markdown",
   "id": "29961419",
   "metadata": {},
   "source": [
    "**Note:** Here, the `appid` parameter is used for authentication."
   ]
  },
  {
   "cell_type": "markdown",
   "id": "d735dbd5",
   "metadata": {},
   "source": [
    "### Example 2: Authentication with Football Data API\n",
    "The Football Data API requires the API key to be passed in the request headers."
   ]
  },
  {
   "cell_type": "code",
   "execution_count": null,
   "id": "7fd5e8a8",
   "metadata": {},
   "outputs": [],
   "source": [
    "response = requests.get(\"https://v3.football.api-sports.io/leagues\", headers={\n",
    "    'x-rapidapi-key': 'your_football_api_key',\n",
    "    'x-rapidapi-host': 'v3.football.api-sports.io'\n",
    "})\n",
    "print(response.text)"
   ]
  },
  {
   "cell_type": "markdown",
   "id": "6044c5a7",
   "metadata": {},
   "source": [
    "**Note:** The API key is included in the headers as `x-rapidapi-key`."
   ]
  },
  {
   "cell_type": "markdown",
   "id": "42da6ef0",
   "metadata": {},
   "source": [
    "## 3. Parameters\n",
    "\n",
    "Parameters in API requests allow you to filter, sort, and customize the data returned by the API. They are often passed in the URL as query parameters.\n",
    "\n",
    "### Example 1: Query Parameters for Filtering\n",
    "\n",
    "In this example, we use the `q` parameter to specify the city (London, UK) and the `appid` parameter for authentication.\n"
   ]
  },
  {
   "cell_type": "code",
   "execution_count": null,
   "id": "00431e3d",
   "metadata": {},
   "outputs": [],
   "source": [
    "response = requests.get(\"http://api.openweathermap.org/data/2.5/weather?q=London,uk&appid=your_openweathermap_api_key\")\n",
    "print(response.text)"
   ]
  },
  {
   "cell_type": "markdown",
   "id": "ae1a9444",
   "metadata": {},
   "source": [
    "**Note:** The `q` parameter filters the data to return only the weather for London, UK.\n",
    "\n",
    "### Example 2: Geographical Parameters\n",
    "\n",
    "Parameters like `lat` (latitude) and `lon` (longitude) allow you to request data for a specific geographical location."
   ]
  },
  {
   "cell_type": "markdown",
   "id": "451e4532",
   "metadata": {},
   "source": [
    "### Example 3: Making Requests with the Football API"
   ]
  },
  {
   "cell_type": "markdown",
   "id": "f4e88e33",
   "metadata": {},
   "source": [
    "The [Football API](https://dashboard.api-football.com/) is a bit more complex and has more detailed and vast information than the weather API. Lets use the [league](https://v3.football.api-sports.io/leagues). If we make a request to the endpoint without parameters, it returns information for all the leagues in the world and the records, as you can imagine that is a whole lot of information, so we will streamline the output using parameters to get information for the [UEFA Championship League](https://www.uefa.com/uefachampionsleague/) for the 2024 season."
   ]
  },
  {
   "cell_type": "code",
   "execution_count": 25,
   "id": "a9c95408",
   "metadata": {},
   "outputs": [],
   "source": [
    "url = \"https://v3.football.api-sports.io/leagues\"\n",
    "\n",
    "payload={'id':2,\n",
    "        'season':2024}#passing in parameters to filter for only the UEFA champion league 2024\n",
    "headers = {\n",
    "  'x-rapidapi-key': SAPI,\n",
    "  'x-rapidapi-host': 'v3.football.api-sports.io'\n",
    "}\n",
    "\n",
    "response = requests.request(\"GET\", url, headers=headers, params=payload)\n",
    "uefa_league=response.json()"
   ]
  },
  {
   "cell_type": "code",
   "execution_count": 28,
   "id": "eb8c1154",
   "metadata": {},
   "outputs": [
    {
     "data": {
      "text/html": [
       "<div>\n",
       "<style scoped>\n",
       "    .dataframe tbody tr th:only-of-type {\n",
       "        vertical-align: middle;\n",
       "    }\n",
       "\n",
       "    .dataframe tbody tr th {\n",
       "        vertical-align: top;\n",
       "    }\n",
       "\n",
       "    .dataframe thead th {\n",
       "        text-align: right;\n",
       "    }\n",
       "</style>\n",
       "<table border=\"1\" class=\"dataframe\">\n",
       "  <thead>\n",
       "    <tr style=\"text-align: right;\">\n",
       "      <th></th>\n",
       "      <th>league</th>\n",
       "      <th>country</th>\n",
       "      <th>seasons</th>\n",
       "    </tr>\n",
       "  </thead>\n",
       "  <tbody>\n",
       "    <tr>\n",
       "      <th>0</th>\n",
       "      <td>{'id': 2, 'name': 'UEFA Champions League', 'type': 'Cup', 'logo': 'https://media.api-sports.io/football/leagues/2.png'}</td>\n",
       "      <td>{'name': 'World', 'code': None, 'flag': None}</td>\n",
       "      <td>[{'year': 2024, 'start': '2024-07-09', 'end': '2025-01-29', 'current': True, 'coverage': {'fixtures': {'events': True, 'lineups': True, 'statistics_fixtures': True, 'statistics_players': True}, 'standings': True, 'players': True, 'top_scorers': True, 'top_assists': True, 'top_cards': True, 'injuries': True, 'predictions': True, 'odds': True}}]</td>\n",
       "    </tr>\n",
       "  </tbody>\n",
       "</table>\n",
       "</div>"
      ],
      "text/plain": [
       "                                                                                                                    league  \\\n",
       "0  {'id': 2, 'name': 'UEFA Champions League', 'type': 'Cup', 'logo': 'https://media.api-sports.io/football/leagues/2.png'}   \n",
       "\n",
       "                                         country  \\\n",
       "0  {'name': 'World', 'code': None, 'flag': None}   \n",
       "\n",
       "                                                                                                                                                                                                                                                                                                                                                     seasons  \n",
       "0  [{'year': 2024, 'start': '2024-07-09', 'end': '2025-01-29', 'current': True, 'coverage': {'fixtures': {'events': True, 'lineups': True, 'statistics_fixtures': True, 'statistics_players': True}, 'standings': True, 'players': True, 'top_scorers': True, 'top_assists': True, 'top_cards': True, 'injuries': True, 'predictions': True, 'odds': True}}]  "
      ]
     },
     "execution_count": 28,
     "metadata": {},
     "output_type": "execute_result"
    }
   ],
   "source": [
    "df=pd.DataFrame.from_dict(uefa_league['response'])\n",
    "df"
   ]
  },
  {
   "cell_type": "markdown",
   "id": "7b992722",
   "metadata": {},
   "source": [
    "The response is deeply nested and can most definitely benefit from further parsing. We can also use the fixtures endpoint to get match fixtures for the teams and other information like player statistics. You can experiment with these further."
   ]
  },
  {
   "cell_type": "code",
   "execution_count": null,
   "id": "81367b73",
   "metadata": {},
   "outputs": [],
   "source": [
    "response = requests.get(\"http://api.openweathermap.org/data/2.5/weather?lat=6.4550575&lon=3.3941795&appid=your_openweathermap_api_key\")\n",
    "print(response.text)"
   ]
  },
  {
   "cell_type": "code",
   "execution_count": null,
   "id": "db235434",
   "metadata": {},
   "outputs": [],
   "source": []
  },
  {
   "cell_type": "markdown",
   "id": "fe9c58b2",
   "metadata": {},
   "source": [
    "## Section 2: Using Variables for API Keys and Parameters"
   ]
  },
  {
   "cell_type": "markdown",
   "id": "7913b4c3",
   "metadata": {},
   "source": [
    "So far, we’ve been hardcoding the API key and other parameters directly into the URL. this is not good practice, Subsequently we will be passing in our API keys as environment variables, this is standard practice, we will be using the loadenv library, althought there are other libraries too for managing environment variables"
   ]
  },
  {
   "cell_type": "code",
   "execution_count": 9,
   "id": "2fc38686",
   "metadata": {},
   "outputs": [],
   "source": [
    "from dotenv import load_dotenv\n",
    "import os\n",
    "WAPI = os.getenv(\"WAPI\")#loading the weather API\n",
    "SAPI = os.getenv(\"SAPI\")#loading the sports API"
   ]
  },
  {
   "cell_type": "code",
   "execution_count": 5,
   "id": "35d3bd22",
   "metadata": {},
   "outputs": [
    {
     "data": {
      "text/plain": [
       "True"
      ]
     },
     "execution_count": 5,
     "metadata": {},
     "output_type": "execute_result"
    }
   ],
   "source": [
    "load_dotenv()"
   ]
  },
  {
   "cell_type": "code",
   "execution_count": 26,
   "id": "7e7ed7db",
   "metadata": {},
   "outputs": [
    {
     "name": "stdout",
     "output_type": "stream",
     "text": [
      "\n",
      "# Example 4: Using variables for API key and parameters\n",
      "Temperature in Paris: 19.75°C\n"
     ]
    }
   ],
   "source": [
    "print(\"\\n# Example 4: Using variables for API key and parameters\")\n",
    "city = \"Paris\"\n",
    "url = f\"https://api.openweathermap.org/data/2.5/weather?q={city}&appid={WAPI}&units=metric\"\n",
    "response = requests.get(url)\n",
    "data = response.json()\n",
    "print(f\"Temperature in {city}: {data['main']['temp']}°C\")"
   ]
  },
  {
   "cell_type": "code",
   "execution_count": 39,
   "id": "d64b843a",
   "metadata": {},
   "outputs": [
    {
     "name": "stdout",
     "output_type": "stream",
     "text": [
      "Temperature in Lagos: 29.18°C\n"
     ]
    }
   ],
   "source": [
    "params = {\n",
    " \"q\": 'Lagos',\n",
    " \"units\": \"metric\",\n",
    " \"appid\": WAPI # API key as a query parameter\n",
    " }\n",
    "url = f\"https://api.openweathermap.org/data/2.5/weather\"#?q={city}&appid={WAPI}&units={units}\"\n",
    "response = requests.get(url, params=params)\n",
    "data = response.json()\n",
    "print(f\"Temperature in {data['name']}: {data['main']['temp']}°C\")"
   ]
  },
  {
   "cell_type": "markdown",
   "id": "777a9987",
   "metadata": {},
   "source": [
    "## 5. Parsing API Responses\n",
    "\n",
    "After making an API request, the response is typically returned in JSON format. Parsing this response allows you to extract the data you need.\n",
    "\n",
    "### Example: Parsing a JSON Response\n"
   ]
  },
  {
   "cell_type": "code",
   "execution_count": null,
   "id": "31544777",
   "metadata": {},
   "outputs": [],
   "source": [
    "response = requests.get(\"http://api.openweathermap.org/data/2.5/weather?q=London,uk&appid=your_openweathermap_api_key\")\n",
    "data = response.json()\n",
    "print(f\"City: {data['name']}, Temperature: {data['main']['temp']}K\")"
   ]
  },
  {
   "cell_type": "markdown",
   "id": "258280ac",
   "metadata": {},
   "source": [
    "**Note:** Here, we're extracting the city name and temperature from the JSON response."
   ]
  },
  {
   "cell_type": "markdown",
   "id": "c2713771",
   "metadata": {},
   "source": [
    "## 6. Error Handling\n",
    "\n",
    "When interacting with APIs, it's important to handle errors that may occur, such as invalid requests or server issues.\n",
    "\n",
    "### Example: Basic Error Handling\n"
   ]
  },
  {
   "cell_type": "code",
   "execution_count": null,
   "id": "a4567caa",
   "metadata": {},
   "outputs": [],
   "source": [
    "response = requests.get(\"http://api.openweathermap.org/data/2.5/weather?q=InvalidCity&appid=your_openweathermap_api_key\")\n",
    "if response.status_code == 200:\n",
    "    data = response.json()\n",
    "    print(f\"City: {data['name']}, Temperature: {data['main']['temp']}K\")\n",
    "else:\n",
    "    print(f\"Failed to retrieve data. Status code: {response.status_code}\")\n",
    "    print(f\"Error message: {response.text}\")"
   ]
  },
  {
   "cell_type": "markdown",
   "id": "4623be88",
   "metadata": {},
   "source": [
    "**Note:** This code checks if the request was successful (`status_code` 200). If not, it prints an error message."
   ]
  },
  {
   "cell_type": "markdown",
   "id": "75c7aa3f",
   "metadata": {},
   "source": [
    "## 7. Working with Multiple APIs\n",
    "\n",
    "Sometimes, you'll need to work with multiple APIs in a single project. Here's an example of how you might combine data from the OpenWeatherMap API and the Football Data API.\n"
   ]
  },
  {
   "cell_type": "markdown",
   "id": "fdcc3536",
   "metadata": {},
   "source": [
    "## Conclusion\n",
    "\n",
    "In this notebook, we've covered the basics of working with APIs using the `requests` library. We've explored how to authenticate requests, use parameters, parse JSON responses, handle errors, and combine data from multiple APIs. Understanding these concepts is essential for data engineers who need to integrate external data sources into their workflows.\n"
   ]
  },
  {
   "cell_type": "code",
   "execution_count": null,
   "id": "d440cbb6",
   "metadata": {},
   "outputs": [],
   "source": []
  },
  {
   "cell_type": "code",
   "execution_count": null,
   "id": "b54410c2",
   "metadata": {},
   "outputs": [],
   "source": []
  }
 ],
 "metadata": {
  "kernelspec": {
   "display_name": "Python 3 (ipykernel)",
   "language": "python",
   "name": "python3"
  },
  "language_info": {
   "codemirror_mode": {
    "name": "ipython",
    "version": 3
   },
   "file_extension": ".py",
   "mimetype": "text/x-python",
   "name": "python",
   "nbconvert_exporter": "python",
   "pygments_lexer": "ipython3",
   "version": "3.11.4"
  }
 },
 "nbformat": 4,
 "nbformat_minor": 5
}
